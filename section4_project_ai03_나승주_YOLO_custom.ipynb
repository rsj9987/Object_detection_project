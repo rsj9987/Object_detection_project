{
  "nbformat": 4,
  "nbformat_minor": 0,
  "metadata": {
    "colab": {
      "name": "YOLO_custom.ipynb",
      "private_outputs": true,
      "provenance": [],
      "collapsed_sections": [],
      "machine_shape": "hm"
    },
    "kernelspec": {
      "name": "python3",
      "display_name": "Python 3"
    },
    "language_info": {
      "name": "python"
    },
    "accelerator": "GPU"
  },
  "cells": [
    {
      "cell_type": "code",
      "metadata": {
        "id": "shAUez8gbfvB"
      },
      "source": [
        "from google.colab import drive\n",
        "import os\n",
        "drive.mount('/content/drive/')"
      ],
      "execution_count": null,
      "outputs": []
    },
    {
      "cell_type": "code",
      "metadata": {
        "id": "AvjIEABXcGTy"
      },
      "source": [
        "%cd drive/MyDrive/YOLO_Custom"
      ],
      "execution_count": null,
      "outputs": []
    },
    {
      "cell_type": "code",
      "metadata": {
        "id": "_rF_zlCSb4QS"
      },
      "source": [
        "# !git clone https://github.com/ultralytics/yolov5.git"
      ],
      "execution_count": null,
      "outputs": []
    },
    {
      "cell_type": "code",
      "metadata": {
        "id": "-sFpI-qnbb7y"
      },
      "source": [
        "%cd yolov5"
      ],
      "execution_count": null,
      "outputs": []
    },
    {
      "cell_type": "code",
      "metadata": {
        "id": "M6R66RvocW6-"
      },
      "source": [
        "!pip install -r requirements.txt"
      ],
      "execution_count": null,
      "outputs": []
    },
    {
      "cell_type": "code",
      "metadata": {
        "id": "ktmABgU3bR1Z"
      },
      "source": [
        "!pip install albumentations"
      ],
      "execution_count": null,
      "outputs": []
    },
    {
      "cell_type": "code",
      "metadata": {
        "id": "z_oOR4Y3muOr"
      },
      "source": [
        "! pip install --upgrade albumentations"
      ],
      "execution_count": null,
      "outputs": []
    },
    {
      "cell_type": "code",
      "metadata": {
        "id": "YvrwHfLzgYUK"
      },
      "source": [
        "YOLO_PATH = '/content/drive/MyDrive/YOLO_Custom'\n",
        "SAVE_PATH = '/content/drive/MyDrive/YOLO_Custom/Thermal_images/aug'"
      ],
      "execution_count": null,
      "outputs": []
    },
    {
      "cell_type": "code",
      "metadata": {
        "id": "_Cw5Lrwfepu9"
      },
      "source": [
        "from glob import glob"
      ],
      "execution_count": null,
      "outputs": []
    },
    {
      "cell_type": "code",
      "metadata": {
        "id": "z-sawFbTiq3_"
      },
      "source": [
        "img_path_list = glob(f'{YOLO_PATH}/Thermal_images/images/*.jpg')\n",
        "print(len(img_path_list))"
      ],
      "execution_count": null,
      "outputs": []
    },
    {
      "cell_type": "code",
      "metadata": {
        "id": "rWhxyRG_ixBq"
      },
      "source": [
        "import cv2\n",
        "img_list = []\n",
        "for img_path in img_path_list:\n",
        "    image = cv2.imread(img_path)\n",
        "    image = cv2.cvtColor(image, cv2.COLOR_BGR2RGB)\n",
        "    img_list.append(image)\n",
        "img_list"
      ],
      "execution_count": null,
      "outputs": []
    },
    {
      "cell_type": "code",
      "metadata": {
        "id": "vgBeaNKvcgEh"
      },
      "source": [
        "bbox_path_list = glob(f'{YOLO_PATH}/Thermal_images/labels/*.txt')\n",
        "len(bbox_path_list)"
      ],
      "execution_count": null,
      "outputs": []
    },
    {
      "cell_type": "code",
      "metadata": {
        "id": "X8O0L9tzcojW"
      },
      "source": [
        "import numpy as np\n",
        "bbox_list = []\n",
        "for bbox_path in bbox_path_list:\n",
        "    with open(bbox_path, 'r') as f:\n",
        "        bbox = f.read()\n",
        "        bbox = bbox.split('\\n')\n",
        "        bboxes = [x.split() for x in bbox]\n",
        "        real_box = []\n",
        "        for b in bboxes:\n",
        "            try:\n",
        "                temp = b[0]\n",
        "                temp_boxes =  b[1:]\n",
        "                temp_boxes.append(temp)\n",
        "                real_box.append(temp_boxes)\n",
        "            except:\n",
        "                pass\n",
        "        bbox_np = np.array(real_box).astype(float)\n",
        "        bbox_list.append(bbox_np)\n",
        "bbox_list"
      ],
      "execution_count": null,
      "outputs": []
    },
    {
      "cell_type": "code",
      "metadata": {
        "id": "NEYhfGfzkv-O"
      },
      "source": [
        "import albumentations as A\n",
        "import cv2\n",
        "transform = A.Compose([\n",
        "    A.Rotate(limit=20, p=0.2, border_mode=cv2.BORDER_CONSTANT),\n",
        "    A.HorizontalFlip(p=0.8),\n",
        "], bbox_params=A.BboxParams(format='yolo')\n",
        ")"
      ],
      "execution_count": null,
      "outputs": []
    },
    {
      "cell_type": "code",
      "metadata": {
        "id": "LWbepJQ0c8wo"
      },
      "source": [
        "aug_image_list = img_list.copy()\n",
        "aug_bbox_list = bbox_list.copy()\n",
        "idx = 0\n",
        "for image, bboxes in zip(img_list, bbox_list):\n",
        "    for i in range(3):\n",
        "        try:\n",
        "            augmentations = transform(image=image, bboxes=bboxes)\n",
        "            augmented_img = augmentations['image']\n",
        "            augmented_bboxes = augmentations['bboxes']\n",
        "            aug_image_list.append(augmented_img)\n",
        "            aug_bbox_list.append(augmented_bboxes)\n",
        "            idx+=1\n",
        "            print('success', idx)\n",
        "        except:\n",
        "            pass"
      ],
      "execution_count": null,
      "outputs": []
    },
    {
      "cell_type": "code",
      "metadata": {
        "id": "HlqtWZixc_tk"
      },
      "source": [
        "aug_bbox_list[0]"
      ],
      "execution_count": null,
      "outputs": []
    },
    {
      "cell_type": "code",
      "metadata": {
        "id": "A3TCMeuU73B4"
      },
      "source": [
        "aug_bbox_list[300], aug_image_list[300]"
      ],
      "execution_count": null,
      "outputs": []
    },
    {
      "cell_type": "code",
      "metadata": {
        "id": "Tz4TtfTEe2Rr"
      },
      "source": [
        "from sklearn.model_selection import train_test_split\n",
        "\n",
        "train_img_list, val_img_list = train_test_split(img_path_list, test_size=.15, random_state=8)"
      ],
      "execution_count": null,
      "outputs": []
    },
    {
      "cell_type": "code",
      "metadata": {
        "id": "5OTpZpuFfR9G"
      },
      "source": [
        "with open(f'{YOLO_PATH}/Thermal_images/train.txt', 'w') as f:\n",
        "    f.write('\\n'.join(train_img_list) + '\\n')\n",
        "with open(f'{YOLO_PATH}/Thermal_images/val.txt', 'w') as f:\n",
        "    f.write('\\n'.join(val_img_list) + '\\n')"
      ],
      "execution_count": null,
      "outputs": []
    },
    {
      "cell_type": "code",
      "metadata": {
        "id": "0-Vxyuqpfkdx"
      },
      "source": [
        "import yaml"
      ],
      "execution_count": null,
      "outputs": []
    },
    {
      "cell_type": "code",
      "metadata": {
        "id": "wgraMkk7gAO4"
      },
      "source": [
        "with open(f'{YOLO_PATH}/Thermal_images/data.yaml', 'r') as f:\n",
        "    data = yaml.load(f)\n",
        "print(data)"
      ],
      "execution_count": null,
      "outputs": []
    },
    {
      "cell_type": "code",
      "metadata": {
        "id": "m29dLrLRBzqz"
      },
      "source": [
        "%cd"
      ],
      "execution_count": null,
      "outputs": []
    },
    {
      "cell_type": "code",
      "metadata": {
        "id": "KMR3sQ09g01p"
      },
      "source": [
        "data['train'] = '../Thermal_images/train.txt'\n",
        "data['val'] = '../Thermal_images/val.txt'\n",
        "\n",
        "with open(f'{YOLO_PATH}/data.yaml', 'w') as f:\n",
        "    yaml.dump(data, f)"
      ],
      "execution_count": null,
      "outputs": []
    },
    {
      "cell_type": "code",
      "metadata": {
        "id": "kdKthKrejXZJ"
      },
      "source": [
        "import os\n",
        "os.chdir(YOLO_PATH + '/yolov5')\n",
        "os.getcwd()"
      ],
      "execution_count": null,
      "outputs": []
    },
    {
      "cell_type": "code",
      "metadata": {
        "id": "qcswC7L5khws"
      },
      "source": [
        "!python train.py --img 416 --batch 8 --epochs 100 --data /content/drive/MyDrive/YOLO_Custom/Thermal_images/data.yaml --cfg ./models/yolov5s.yaml --weights yolov5s.pt --name Thermal_yolov5s_results"
      ],
      "execution_count": null,
      "outputs": []
    },
    {
      "cell_type": "code",
      "metadata": {
        "id": "Dm-coVH6lYT0"
      },
      "source": [
        "%load_ext tensorboard\n",
        "%tensorboard --logdir /content/drive/MyDrive/YOLO_Custom/yolov5/runs/"
      ],
      "execution_count": null,
      "outputs": []
    },
    {
      "cell_type": "code",
      "metadata": {
        "id": "qHtWkADq7vaS"
      },
      "source": [
        "from IPython.display import Image\n",
        "import os\n",
        "\n",
        "val_img_path = train_img_list[117]\n",
        "\n",
        "!python detect.py --weights /content/drive/MyDrive/YOLO_Custom/yolov5/runs/train/Thermal_yolov5s_results/weights/best.pt --img 416 --conf 0.3 --source {val_img_path}\n",
        "Image(os.path.join('/content/drive/MyDrive/YOLO_Custom/yolov5/runs/detect/exp', os.path.basename(val_img_path)))"
      ],
      "execution_count": null,
      "outputs": []
    },
    {
      "cell_type": "code",
      "metadata": {
        "id": "yPRvqXldP1FM"
      },
      "source": [
        "!pip install r requirements.txt"
      ],
      "execution_count": null,
      "outputs": []
    }
  ]
}